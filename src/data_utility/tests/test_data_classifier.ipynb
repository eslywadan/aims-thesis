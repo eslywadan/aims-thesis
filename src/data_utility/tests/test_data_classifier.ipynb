{
 "cells": [
  {
   "cell_type": "code",
   "execution_count": 3,
   "id": "ba4a8731",
   "metadata": {},
   "outputs": [
    {
     "ename": "ModuleNotFoundError",
     "evalue": "No module named 'data_utility'",
     "output_type": "error",
     "traceback": [
      "\u001b[0;31m---------------------------------------------------------------------------\u001b[0m",
      "\u001b[0;31mModuleNotFoundError\u001b[0m                       Traceback (most recent call last)",
      "Cell \u001b[0;32mIn[3], line 1\u001b[0m\n\u001b[0;32m----> 1\u001b[0m \u001b[38;5;28;01mfrom\u001b[39;00m\u001b[38;5;250m \u001b[39m\u001b[38;5;21;01mdata_utility\u001b[39;00m\u001b[38;5;21;01m.\u001b[39;00m\u001b[38;5;21;01mdata_classifier\u001b[39;00m\u001b[38;5;250m \u001b[39m\u001b[38;5;28;01mimport\u001b[39;00m UniversalDataClassifier\n",
      "\u001b[0;31mModuleNotFoundError\u001b[0m: No module named 'data_utility'"
     ]
    }
   ],
   "source": [
    "from data_utility.data_classifier import UniversalDataClassifier"
   ]
  },
  {
   "cell_type": "code",
   "execution_count": 1,
   "id": "13441e30",
   "metadata": {},
   "outputs": [
    {
     "name": "stderr",
     "output_type": "stream",
     "text": [
      "/Users/qs.chou/projects/aims_thesis/.venv/lib/python3.10/site-packages/tqdm/auto.py:21: TqdmWarning: IProgress not found. Please update jupyter and ipywidgets. See https://ipywidgets.readthedocs.io/en/stable/user_install.html\n",
      "  from .autonotebook import tqdm as notebook_tqdm\n"
     ]
    },
    {
     "name": "stdout",
     "output_type": "stream",
     "text": [
      "Path to dataset files: /Users/qs.chou/.cache/kagglehub/datasets/imakash3011/customer-personality-analysis/versions/1\n"
     ]
    }
   ],
   "source": [
    "import kagglehub\n",
    "import os\n",
    "import pandas as pd\n",
    "# Download latest version\n",
    "path = kagglehub.dataset_download(\"imakash3011/customer-personality-analysis\")\n",
    "\n",
    "print(\"Path to dataset files:\", path)\n",
    "files = os.listdir(path)\n",
    "data = pd.read_csv(os.path.join(path, files[0]), encoding='latin1', sep=\"\\t\")\n"
   ]
  },
  {
   "cell_type": "code",
   "execution_count": 2,
   "id": "494a67bd",
   "metadata": {},
   "outputs": [
    {
     "ename": "NameError",
     "evalue": "name 'UniversalDataClassifier' is not defined",
     "output_type": "error",
     "traceback": [
      "\u001b[0;31m---------------------------------------------------------------------------\u001b[0m",
      "\u001b[0;31mNameError\u001b[0m                                 Traceback (most recent call last)",
      "Cell \u001b[0;32mIn[2], line 1\u001b[0m\n\u001b[0;32m----> 1\u001b[0m classifier \u001b[38;5;241m=\u001b[39m \u001b[43mUniversalDataClassifier\u001b[49m()\n\u001b[1;32m      2\u001b[0m results \u001b[38;5;241m=\u001b[39m classifier\u001b[38;5;241m.\u001b[39mclassify_data(data)\n\u001b[1;32m      3\u001b[0m \u001b[38;5;66;03m# Print recommendations\u001b[39;00m\n",
      "\u001b[0;31mNameError\u001b[0m: name 'UniversalDataClassifier' is not defined"
     ]
    }
   ],
   "source": [
    "classifier = UniversalDataClassifier()\n",
    "results = classifier.classify_data(data)\n",
    "# Print recommendations\n",
    "print(\"=== DATA ANALYSIS RESULTS ===\")\n",
    "print(f\"Dataset shape: {results['analysis']['basic_stats']['shape']}\")\n",
    "print(f\"Primary approach: {results['recommendations']['primary_approach']}\")\n",
    "    \n",
    "if results['recommendations']['primary_approach'] == 'supervised_learning':\n",
    "    print(f\"Recommended target: {results['recommendations']['target_column']}\")\n",
    "    print(f\"Problem type: {results['recommendations']['problem_type']}\")\n",
    "    \n",
    "print(f\"Recommended methods: {results['recommendations']['specific_methods']}\")\n",
    "print(f\"Recommended tools: {results['recommendations']['tool_recommendations']}\")\n",
    "print(f\"Preprocessing needed: {results['recommendations']['preprocessing_requirements']}\")\n",
    "print(f\"Overall confidence: {results['confidence_scores']['overall_confidence']:.2f}\")\n",
    "    "
   ]
  }
 ],
 "metadata": {
  "kernelspec": {
   "display_name": ".venv",
   "language": "python",
   "name": "python3"
  },
  "language_info": {
   "codemirror_mode": {
    "name": "ipython",
    "version": 3
   },
   "file_extension": ".py",
   "mimetype": "text/x-python",
   "name": "python",
   "nbconvert_exporter": "python",
   "pygments_lexer": "ipython3",
   "version": "3.10.11"
  }
 },
 "nbformat": 4,
 "nbformat_minor": 5
}
