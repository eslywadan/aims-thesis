{
 "cells": [
  {
   "cell_type": "code",
   "execution_count": 1,
   "id": "ba4a8731",
   "metadata": {},
   "outputs": [],
   "source": [
    "from data_utility.data_classifier import UniversalDataClassifier"
   ]
  },
  {
   "cell_type": "code",
   "execution_count": 2,
   "id": "13441e30",
   "metadata": {},
   "outputs": [
    {
     "name": "stdout",
     "output_type": "stream",
     "text": [
      "Path to dataset files: /Users/qs.chou/.cache/kagglehub/datasets/imakash3011/customer-personality-analysis/versions/1\n"
     ]
    }
   ],
   "source": [
    "import kagglehub\n",
    "import os\n",
    "import pandas as pd\n",
    "# Download latest version\n",
    "path = kagglehub.dataset_download(\"imakash3011/customer-personality-analysis\")\n",
    "\n",
    "print(\"Path to dataset files:\", path)\n",
    "files = os.listdir(path)\n",
    "data = pd.read_csv(os.path.join(path, files[0]), encoding='latin1', sep=\"\\t\")\n"
   ]
  },
  {
   "cell_type": "code",
   "execution_count": 3,
   "id": "494a67bd",
   "metadata": {},
   "outputs": [
    {
     "name": "stdout",
     "output_type": "stream",
     "text": [
      "=== DATA ANALYSIS RESULTS ===\n",
      "Dataset shape: (1000, 29)\n",
      "Primary approach: supervised_learning\n",
      "Recommended target: AcceptedCmp3\n",
      "Problem type: binary_classification\n",
      "Recommended methods: ['Random Forest Classification', 'Gradient Boosting Classification', 'XGBoost Classification', 'Logistic Regression (baseline)']\n",
      "Recommended tools: ['scikit-learn', 'xgboost', 'imbalanced-learn']\n",
      "Preprocessing needed: ['Handle missing values', 'Encode categorical variables', 'Feature scaling/normalization', 'Handle outliers']\n",
      "Overall confidence: 0.92\n"
     ]
    }
   ],
   "source": [
    "classifier = UniversalDataClassifier()\n",
    "results = classifier.classify_data(data)\n",
    "# Print recommendations\n",
    "print(\"=== DATA ANALYSIS RESULTS ===\")\n",
    "print(f\"Dataset shape: {results['analysis']['basic_stats']['shape']}\")\n",
    "print(f\"Primary approach: {results['recommendations']['primary_approach']}\")\n",
    "    \n",
    "if results['recommendations']['primary_approach'] == 'supervised_learning':\n",
    "    print(f\"Recommended target: {results['recommendations']['target_column']}\")\n",
    "    print(f\"Problem type: {results['recommendations']['problem_type']}\")\n",
    "    \n",
    "print(f\"Recommended methods: {results['recommendations']['specific_methods']}\")\n",
    "print(f\"Recommended tools: {results['recommendations']['tool_recommendations']}\")\n",
    "print(f\"Preprocessing needed: {results['recommendations']['preprocessing_requirements']}\")\n",
    "print(f\"Overall confidence: {results['confidence_scores']['overall_confidence']:.2f}\")\n",
    "    "
   ]
  }
 ],
 "metadata": {
  "kernelspec": {
   "display_name": ".venv",
   "language": "python",
   "name": "python3"
  },
  "language_info": {
   "codemirror_mode": {
    "name": "ipython",
    "version": 3
   },
   "file_extension": ".py",
   "mimetype": "text/x-python",
   "name": "python",
   "nbconvert_exporter": "python",
   "pygments_lexer": "ipython3",
   "version": "3.10.11"
  }
 },
 "nbformat": 4,
 "nbformat_minor": 5
}
